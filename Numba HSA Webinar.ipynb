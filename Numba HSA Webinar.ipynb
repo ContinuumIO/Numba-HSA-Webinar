{
 "cells": [
  {
   "cell_type": "markdown",
   "metadata": {},
   "source": [
    "# Blowing the doors off your bottlenecks with Python on AMD APUs and dGPUs\n",
    "## Stan Seibert<br/>December 8, 2015 (updated March 2016)\n",
    "\n",
    "(This notebook contains code from a webinar showing how to use Python and Numba to write code that takes advantage of the GPU-capabilities on AMD APUs, it has subsequently been modified to also demonstrate AMD dGPUs.)\n",
    "\n",
    "This example requires:\n",
    " * One of: \n",
    "     * An AMD APU: Kaveri and Carrizo processors have been tested\n",
    "     * A >= Haswell Intel CPU with an AMD dGPU, the R9 Nano dGPU has been tested.\n",
    " * Ubuntu Linux 14.04 64-bit\n",
    " * Drivers/Runtime: \n",
    "     * For AMD APUs: [AMD HSA 1.0 final drivers](https://github.com/HSAFoundation/HSA-Docs-AMD/wiki/HSA-Platforms-&-Installation)\n",
    "     * For AMD dGPUs (All available as part of  [Radeon Open Compute Solutions](https://github.com/RadeonOpenCompute)):\n",
    "         * [ROCR-Runtime](https://github.com/RadeonOpenCompute/ROCR-Runtime)\n",
    "         * [ROCK-Kernel-Driver](https://github.com/RadeonOpenCompute/ROCK-Kernel-Driver)\n",
    "         * [ROCT-Thunk-Interface](https://github.com/RadeonOpenCompute/ROCT-Thunk-Interface)\n",
    "         \n",
    "         \n",
    "\n",
    "The easiest way to test out the code in this notebook is to download [Miniconda](http://conda.pydata.org/miniconda.html) and run the following commands to create and activate a new environment:\n",
    "```\n",
    "conda create -n hsa_webinar python=3.4 numba libhlc pandas bokeh matplotlib basemap jupyter\n",
    "source activate hsa_webinar\n",
    "export LD_LIBRARY_PATH=/opt/hsa/lib\n",
    "\n",
    "jupyter notebook\n",
    "```\n",
    "TODO : check the above for dGPU with respect to libHLC status.\n",
    "\n",
    "Set up... select a floating point type and, if there is a dGPU, whether to use preallocated memory in the performance tests."
   ]
  },
  {
   "cell_type": "code",
   "execution_count": null,
   "metadata": {
    "collapsed": true
   },
   "outputs": [],
   "source": [
    "import numpy as np\n",
    "\n",
    "# The data type to use in the computation, `np.float64` and `np.float32` are valid.\n",
    "global_dtype = np.float64\n",
    "\n",
    "# Whether to use automatic device allocation or pre-allocated memory (dGPU option only).\n",
    "use_auto_device = False\n"
   ]
  },
  {
   "cell_type": "code",
   "execution_count": null,
   "metadata": {
    "collapsed": true
   },
   "outputs": [],
   "source": [
    "from numba.hsa.hsadrv.driver import dgpu_present\n",
    "from numba.hsa.hsadrv.devices import get_context\n",
    "import numba.hsa.api as hsaapi\n",
    "gt_as_str = global_dtype.__name__\n",
    "dgpu_prealloc = False\n",
    "if use_auto_device == False:\n",
    "    if dgpu_present() == True:\n",
    "        dgpu_prealloc = True\n",
    "    else:\n",
    "        raise RuntimeError(\"dGPU preallocation requested but no dGPU is found.\")"
   ]
  },
  {
   "cell_type": "code",
   "execution_count": null,
   "metadata": {
    "collapsed": false
   },
   "outputs": [],
   "source": [
    "%matplotlib inline\n",
    "import pandas as pd\n",
    "import numba.hsa\n",
    "from bokeh.plotting import output_notebook, figure, show\n",
    "from bokeh.models import NumeralTickFormatter\n",
    "output_notebook()"
   ]
  },
  {
   "cell_type": "markdown",
   "metadata": {},
   "source": [
    "## Sample Data\n",
    "\n",
    "For these examples, we use geographic points information recorded by a NASA satellite observing lightning strikes from orbit.  These points are excerpted from the [LIS/OTD Climatology dataset](http://thunder.msfc.nasa.gov/data/data_lis-otd-climatology.html).\n",
    "\n",
    "The data have been saved in compressed CSV form in the Git repository."
   ]
  },
  {
   "cell_type": "code",
   "execution_count": null,
   "metadata": {
    "collapsed": false
   },
   "outputs": [],
   "source": [
    "lstrikes = pd.read_csv('points.csv.gz')\n",
    "print('Number of points in file:', len(lstrikes))\n",
    "lstrikes = pd.concat([lstrikes]*21) # Expand the test data by duplicating it 21 times (~2**22 points)\n",
    "print('Number of points in memory:', len(lstrikes))"
   ]
  },
  {
   "cell_type": "markdown",
   "metadata": {},
   "source": [
    "We can draw a map showing a subset of these values:"
   ]
  },
  {
   "cell_type": "code",
   "execution_count": null,
   "metadata": {
    "collapsed": false
   },
   "outputs": [],
   "source": [
    "from mpl_toolkits.basemap import Basemap\n",
    "import matplotlib.pyplot as plt\n",
    "from pylab import rcParams\n",
    "rcParams['figure.figsize'] = 12, 6\n",
    "\n",
    "m = Basemap(projection='merc',llcrnrlat=26,urcrnrlat=37,\\\n",
    "            llcrnrlon=-107,urcrnrlon=-90,lat_ts=1, resolution='l')\n",
    "# draw coastlines.\n",
    "m.drawcoastlines(color='#253746')\n",
    "m.drawcountries(color='#253746')\n",
    "m.drawstates(color='#253746')\n",
    "m.drawmapboundary(fill_color='#089bcc')\n",
    "m.fillcontinents(color='#A4BCC2',lake_color='#089bcc')\n",
    "\n",
    "sample = lstrikes.sample(n=1000)\n",
    "m.scatter(y=sample.latitude.values, x=sample.longitude.values, latlon=True, marker='.', color='yellow')\n",
    "m.plot(y=30.25, x=-97.75, latlon=True, marker=\"*\", color=\"#253746\")\n",
    "m.tissot(-97.75, 30.25, 3.59, npts=30, alpha=0.20, facecolor='#089bcc', edgecolor='#253746', linewidth='3')\n",
    "plt.show()"
   ]
  },
  {
   "cell_type": "markdown",
   "metadata": {},
   "source": [
    "## Example 1:  Creating a Ufunc\n",
    "\n",
    "[Universal functions](http://docs.scipy.org/doc/numpy-1.10.0/reference/ufuncs.html) are an incredibly useful concept from NumPy for describing operations on arrays of data.  A simple example using two ufuncs is:"
   ]
  },
  {
   "cell_type": "code",
   "execution_count": null,
   "metadata": {
    "collapsed": false
   },
   "outputs": [],
   "source": [
    "a = np.array([1, 4, 9])\n",
    "result = np.sqrt(a) + 1\n",
    "print(result)"
   ]
  },
  {
   "cell_type": "markdown",
   "metadata": {},
   "source": [
    "Let's first create a function that computes the distance between two points on the surface of the earth:"
   ]
  },
  {
   "cell_type": "code",
   "execution_count": null,
   "metadata": {
    "collapsed": false
   },
   "outputs": [],
   "source": [
    "import math\n",
    "\n",
    "R_EARTH = 6371.0 # km\n",
    "\n",
    "sig='%s(%s)' % ((gt_as_str,)*2)\n",
    "\n",
    "@numba.hsa.jit(sig, device=True)\n",
    "def deg2rad(deg):\n",
    "    return math.pi * deg / 180.0\n",
    "\n",
    "sig='%s(%s, %s, %s, %s)' % ((gt_as_str,)*5)\n",
    "@numba.vectorize(sig, target='hsa')\n",
    "def gpu_great_circle_distance(lat1, lng1, lat2, lng2):\n",
    "    '''Return the great-circle distance in km between (lat1, lng1) and (lat2, lng2)\n",
    "    on the surface of the Earth.'''\n",
    "    lat1, lng1 = deg2rad(lat1), deg2rad(lng1)\n",
    "    lat2, lng2 = deg2rad(lat2), deg2rad(lng2)\n",
    "\n",
    "    sin_lat1, cos_lat1 = math.sin(lat1), math.cos(lat1)\n",
    "    sin_lat2, cos_lat2 = math.sin(lat2), math.cos(lat2)\n",
    "\n",
    "    delta = lng1 - lng2\n",
    "    sin_delta, cos_delta = math.sin(delta), math.cos(delta)\n",
    "\n",
    "    numerator = math.sqrt((cos_lat1 * sin_delta)**2 + \n",
    "                          (cos_lat1 * sin_lat2 - sin_lat1 * cos_lat2 * cos_delta)**2)\n",
    "    denominator = sin_lat1 * sin_lat2 + cos_lat1 * cos_lat2 * cos_delta\n",
    "    return R_EARTH * math.atan2(numerator, denominator)"
   ]
  },
  {
   "cell_type": "markdown",
   "metadata": {},
   "source": [
    "Next we can verify that it works, and see how fast it is for a particular data set size:"
   ]
  },
  {
   "cell_type": "code",
   "execution_count": null,
   "metadata": {
    "collapsed": false
   },
   "outputs": [],
   "source": [
    "print('Distance between Austin and Chicago:', gpu_great_circle_distance(30.25, -97.75, 41.8369, -87.6847)[0], 'km')"
   ]
  },
  {
   "cell_type": "code",
   "execution_count": null,
   "metadata": {
    "collapsed": false
   },
   "outputs": [],
   "source": [
    "c7_lat = lstrikes.latitude.values.astype(global_dtype)\n",
    "c7_long = lstrikes.longitude.values.astype(global_dtype)\n",
    "%timeit distances = gpu_great_circle_distance(30.25, -97.75, c7_lat, c7_long)"
   ]
  },
  {
   "cell_type": "markdown",
   "metadata": {},
   "source": [
    "To benchmark the HSA version of the algorithm, we need a NumPy version to compare with:"
   ]
  },
  {
   "cell_type": "code",
   "execution_count": null,
   "metadata": {
    "collapsed": true
   },
   "outputs": [],
   "source": [
    "def numpy_great_circle_distance(lat1, lng1, lat2, lng2):\n",
    "    '''Return the great-circle distance in km between (lat1, lng1) and (lat2, lng2)\n",
    "    on the surface of the Earth.'''\n",
    "    lat1, lng1 = np.deg2rad(lat1), np.deg2rad(lng1)\n",
    "    lat2, lng2 = np.deg2rad(lat2), np.deg2rad(lng2)\n",
    "\n",
    "    # See last formula in http://en.wikipedia.org/wiki/Great-circle_distance#Computational_formulas\n",
    "    sin_lat1 = np.sin(lat1)\n",
    "    cos_lat1 = np.cos(lat1)\n",
    "    sin_lat2 = np.sin(lat2)\n",
    "    cos_lat2 = np.cos(lat2)\n",
    "\n",
    "    delta = lng1 - lng2\n",
    "    cos_delta = np.cos(delta)\n",
    "    sin_delta = np.sin(delta)\n",
    "\n",
    "    numerator = np.sqrt((cos_lat1 * sin_delta)**2 + \n",
    "                        (cos_lat1 * sin_lat2 - sin_lat1 * cos_lat2 * cos_delta)**2)\n",
    "    denominator = sin_lat1 * sin_lat2 + cos_lat1 * cos_lat2 * cos_delta\n",
    "    return R_EARTH * np.arctan2(numerator, denominator)"
   ]
  },
  {
   "cell_type": "markdown",
   "metadata": {},
   "source": [
    "Finally, we can benchmark for a range of data sizes:"
   ]
  },
  {
   "cell_type": "code",
   "execution_count": null,
   "metadata": {
    "collapsed": false
   },
   "outputs": [],
   "source": [
    "target_lat, target_lng = 30.25, -97.75\n",
    "\n",
    "cpu = []\n",
    "hsa = []\n",
    "ex1_n = []\n",
    "\n",
    "if dgpu_prealloc:\n",
    "    top_end = 23\n",
    "else:\n",
    "    top_end = 21\n",
    "\n",
    "for lg2 in range(8, top_end):\n",
    "    npoints = 2**lg2\n",
    "    print(npoints)\n",
    "    ex1_n.append(npoints)\n",
    "    sample = lstrikes.iloc[:npoints]\n",
    "    lat = sample.latitude.values.astype(global_dtype)\n",
    "    lng = sample.longitude.values.astype(global_dtype)\n",
    "    result = %timeit -o numpy_great_circle_distance(target_lat, target_lng, lat, lng)\n",
    "    cpu.append(result.best)\n",
    "    if dgpu_prealloc:\n",
    "        ctx = get_context()\n",
    "        d_lat = hsaapi.to_device(lat, ctx)\n",
    "        d_lng = hsaapi.to_device(lng, ctx)\n",
    "        res = np.zeros(npoints, dtype=global_dtype)\n",
    "        d_res = hsaapi.to_device(res, ctx)\n",
    "        result = %timeit -o gpu_great_circle_distance(target_lat, target_lng, d_lat, d_lng, out = d_res)\n",
    "    else:\n",
    "        result = %timeit -o gpu_great_circle_distance(target_lat, target_lng, lat, lng)\n",
    "    hsa.append(result.best)\n",
    "\n",
    "\n",
    "# Compute speedup ratio\n",
    "ex1_speedup = np.array(cpu) / np.array(hsa)"
   ]
  },
  {
   "cell_type": "code",
   "execution_count": null,
   "metadata": {
    "collapsed": false,
    "scrolled": true
   },
   "outputs": [],
   "source": [
    "p = figure(plot_width=800, plot_height=500, title='Compute Distance from Target')\n",
    "p.xaxis.axis_label = 'Number of points'\n",
    "p.xaxis[0].formatter = NumeralTickFormatter(format=\"0,0\")\n",
    "p.yaxis.axis_label = 'GPU speedup ratio'\n",
    "p.line(ex1_n, ex1_speedup, color='navy')\n",
    "p.line(ex1_n, 1.0, color='red', line_dash=[10,10])\n",
    "show(p)"
   ]
  },
  {
   "cell_type": "markdown",
   "metadata": {},
   "source": [
    "## Example 2: Creating an HSA kernel\n",
    "\n",
    "In this next example, we will use HSA to compute the distance matrix between a set of points.\n",
    "\n",
    "This device function computes the distance between two points.  (Very similar to what we used in our ufunc above.)"
   ]
  },
  {
   "cell_type": "code",
   "execution_count": null,
   "metadata": {
    "collapsed": false
   },
   "outputs": [],
   "source": [
    "sig='%s(%s, %s, %s, %s)' % ((gt_as_str,)*5)\n",
    "@numba.hsa.jit(sig, device=True)\n",
    "def device_great_circle_distance(lat1, lng1, lat2, lng2):\n",
    "    lat1, lng1 = deg2rad(lat1), deg2rad(lng1)\n",
    "    lat2, lng2 = deg2rad(lat2), deg2rad(lng2)\n",
    "\n",
    "    sin_lat1 = math.sin(lat1)\n",
    "    cos_lat1 = math.cos(lat1)\n",
    "    sin_lat2 = math.sin(lat2)\n",
    "    cos_lat2 = math.cos(lat2)\n",
    "\n",
    "    delta = lng1 - lng2\n",
    "    cos_delta = math.cos(delta)\n",
    "    sin_delta = math.sin(delta)\n",
    "\n",
    "    numerator = math.sqrt((cos_lat1 * sin_delta)**2 + \n",
    "                          (cos_lat1 * sin_lat2 - sin_lat1 * cos_lat2 * cos_delta)**2)\n",
    "    denominator = sin_lat1 * sin_lat2 + cos_lat1 * cos_lat2 * cos_delta\n",
    "    return R_EARTH * math.atan2(numerator, denominator)"
   ]
  },
  {
   "cell_type": "markdown",
   "metadata": {},
   "source": [
    "This is the kernel that will map HSA work-items to point pairs in the distance calculation:"
   ]
  },
  {
   "cell_type": "code",
   "execution_count": null,
   "metadata": {
    "collapsed": false
   },
   "outputs": [],
   "source": [
    "sig='(%s[:], %s[:], %s[:,:])' % ((gt_as_str,)*3)\n",
    "@numba.hsa.jit(sig)\n",
    "def distance_matrix(lat, lng, distance):\n",
    "    this_idx = numba.hsa.get_global_id(0)\n",
    "    npoints = lat.size\n",
    "    \n",
    "    if this_idx >= npoints:\n",
    "        return\n",
    "    \n",
    "    this_lat = lat[this_idx]\n",
    "    this_lng = lng[this_idx]\n",
    "    \n",
    "    for other_idx in range(npoints):\n",
    "        other_lat = lat[other_idx]\n",
    "        other_lng = lng[other_idx]\n",
    "        \n",
    "        distance[this_idx, other_idx] = device_great_circle_distance(this_lat, this_lng,\n",
    "                                                                     other_lat, other_lng)"
   ]
  },
  {
   "cell_type": "markdown",
   "metadata": {},
   "source": [
    "And here is how to launch a computation of the distance matrix for 4 points:"
   ]
  },
  {
   "cell_type": "code",
   "execution_count": null,
   "metadata": {
    "collapsed": false
   },
   "outputs": [],
   "source": [
    "# Create output array\n",
    "sample = lstrikes.iloc[:4]\n",
    "distance = np.empty(shape=(len(sample), len(sample)), dtype=global_dtype)\n",
    "\n",
    "# Compute dimensions of grid\n",
    "items_per_group = 64 # Use multiple of 64\n",
    "groups = int(math.ceil(len(sample) / items_per_group))\n",
    "\n",
    "# Call GPU kernel\n",
    "distance_matrix[groups, items_per_group](sample.latitude.values.astype(global_dtype), \n",
    "                                         sample.longitude.values.astype(global_dtype),\n",
    "                                         distance)\n",
    "print(distance)"
   ]
  },
  {
   "cell_type": "markdown",
   "metadata": {},
   "source": [
    "For comparison, we can compute the same matrix with NumPy:"
   ]
  },
  {
   "cell_type": "code",
   "execution_count": null,
   "metadata": {
    "collapsed": false
   },
   "outputs": [],
   "source": [
    "numpy_great_circle_distance(sample.latitude.values[:, np.newaxis].astype(global_dtype), \n",
    "                            sample.longitude.values[:, np.newaxis].astype(global_dtype),\n",
    "                            sample.latitude.values[np.newaxis, :].astype(global_dtype),\n",
    "                            sample.longitude.values[np.newaxis, :].astype(global_dtype))"
   ]
  },
  {
   "cell_type": "markdown",
   "metadata": {},
   "source": [
    "Again, we can benchmark the distance matrix calculation for a range of input sizes."
   ]
  },
  {
   "cell_type": "code",
   "execution_count": null,
   "metadata": {
    "collapsed": false
   },
   "outputs": [],
   "source": [
    "import gc\n",
    "cpu = []\n",
    "hsa = []\n",
    "ex2_n = []\n",
    "\n",
    "# more float32s can exist on the dGPU card than float64s before the gc gets stuck\n",
    "if isinstance(global_dtype, np.float32):\n",
    "    lim = 14\n",
    "else:\n",
    "    lim = 13\n",
    "   \n",
    "npoints_list = (2 ** np.array(range(8, lim))).astype(int).tolist()\n",
    "\n",
    "for npoints in npoints_list:\n",
    "    print(npoints)\n",
    "    ex2_n.append(npoints)\n",
    "    sample = lstrikes.iloc[:npoints]\n",
    "    lat = sample.latitude.values.astype(global_dtype)\n",
    "    lng = sample.longitude.values.astype(global_dtype)\n",
    "    \n",
    "    distance = np.empty(shape=(len(sample), len(sample)), dtype=global_dtype)\n",
    "\n",
    "    lat_ax0 = lat[:, np.newaxis].astype(global_dtype)\n",
    "    lng_ax0 = lng[:, np.newaxis].astype(global_dtype)\n",
    "    lat_ax1 = lat[np.newaxis, :].astype(global_dtype)\n",
    "    lng_ax1 = lng[np.newaxis, :].astype(global_dtype)\n",
    "    if dgpu_prealloc:\n",
    "        result = %timeit -o -n 10 numpy_great_circle_distance(\\\n",
    "            lat_ax0, lng_ax0, lat_ax1, lng_ax1)\n",
    "    else:\n",
    "        result = %timeit -o -n 1 numpy_great_circle_distance(\\\n",
    "            lat_ax0, lng_ax0, lat_ax1, lng_ax1)\n",
    "    cpu.append(result.best)\n",
    "\n",
    "    if dgpu_prealloc:\n",
    "        ctx = get_context()\n",
    "        d_lat = hsaapi.to_device(lat, ctx)\n",
    "        d_lng = hsaapi.to_device(lng, ctx)\n",
    "        d_distance = hsaapi.to_device(distance, ctx)\n",
    "    \n",
    "    items_per_group = 64 # Use multiple of 64\n",
    "    groups = int(math.ceil(len(sample) / items_per_group))\n",
    "    if dgpu_prealloc:\n",
    "        result = %timeit -o -n 10 distance_matrix[groups, items_per_group](d_lat, d_lng, d_distance)\n",
    "    else:\n",
    "        result = %timeit -o -n 1 distance_matrix[groups, items_per_group](lat, lng, distance)\n",
    "    gc.collect()\n",
    "    hsa.append(result.best)\n",
    "\n",
    "# Compute speedup ratio\n",
    "ex2_speedup = np.array(cpu) / np.array(hsa)"
   ]
  },
  {
   "cell_type": "code",
   "execution_count": null,
   "metadata": {
    "collapsed": false
   },
   "outputs": [],
   "source": [
    "print(ex2_speedup)\n",
    "p = figure(plot_width=800, plot_height=500, title='Compute Distance Matrix')\n",
    "p.xaxis.axis_label = 'Number of points'\n",
    "p.xaxis[0].formatter = NumeralTickFormatter(format=\"0,0\")\n",
    "p.yaxis.axis_label = 'GPU speedup ratio'\n",
    "p.line(ex2_n, ex2_speedup, color='navy')\n",
    "p.line(ex2_n, 1.0, color='red', line_dash=[10,10])\n",
    "show(p)"
   ]
  },
  {
   "cell_type": "markdown",
   "metadata": {
    "collapsed": true
   },
   "source": [
    "## Other examples\n",
    "\n",
    "### Compiling a ufunc for both CPU and GPU"
   ]
  },
  {
   "cell_type": "code",
   "execution_count": null,
   "metadata": {
    "collapsed": false,
    "scrolled": true
   },
   "outputs": [],
   "source": [
    "def reldiff(a, b):\n",
    "    return 2 * (a - b) / (a + b)\n",
    "\n",
    "sig='%s(%s, %s)' % ((gt_as_str,)*3)\n",
    "cpu_reldiff = numba.vectorize(sig)(reldiff)\n",
    "gpu_reldiff = numba.vectorize(sig, target='hsa')(reldiff)"
   ]
  },
  {
   "cell_type": "code",
   "execution_count": null,
   "metadata": {
    "collapsed": false
   },
   "outputs": [],
   "source": [
    "sz = 10000000\n",
    "x = np.random.uniform(size=sz).astype(global_dtype)\n",
    "y = np.random.uniform(size=sz).astype(global_dtype)\n",
    "\n",
    "if dgpu_prealloc:\n",
    "    ctx = get_context()\n",
    "    d_x = hsaapi.to_device(x, ctx)\n",
    "    d_y = hsaapi.to_device(y, ctx)\n",
    "    d_res = hsaapi.to_device(np.zeros_like(x), ctx)\n",
    "\n",
    "cpu_result = cpu_reldiff(x, y)\n",
    "gpu_result = gpu_reldiff(x, y)\n",
    "\n",
    "print('CPU:', cpu_result)\n",
    "print('GPU:', gpu_result)"
   ]
  },
  {
   "cell_type": "markdown",
   "metadata": {},
   "source": [
    "For extremely simple functions, like `reldiff`, the GPU does not offer much benefit *unless*\n",
    "the device memory is preallocated, as is demonstrated in the case of a dGPU:"
   ]
  },
  {
   "cell_type": "code",
   "execution_count": null,
   "metadata": {
    "collapsed": false
   },
   "outputs": [],
   "source": [
    "%timeit cpu_reldiff(x, y)\n",
    "if dgpu_prealloc:\n",
    "    %timeit gpu_reldiff(d_x, d_y, out = d_res)\n",
    "%timeit gpu_reldiff(x, y)"
   ]
  },
  {
   "cell_type": "code",
   "execution_count": null,
   "metadata": {
    "collapsed": true
   },
   "outputs": [],
   "source": []
  }
 ],
 "metadata": {
  "kernelspec": {
   "display_name": "Python 3",
   "language": "python",
   "name": "python3"
  },
  "language_info": {
   "codemirror_mode": {
    "name": "ipython",
    "version": 3
   },
   "file_extension": ".py",
   "mimetype": "text/x-python",
   "name": "python",
   "nbconvert_exporter": "python",
   "pygments_lexer": "ipython3",
   "version": "3.5.1"
  }
 },
 "nbformat": 4,
 "nbformat_minor": 0
}
